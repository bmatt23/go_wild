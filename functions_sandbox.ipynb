{
 "cells": [
  {
   "cell_type": "code",
   "execution_count": 1,
   "metadata": {},
   "outputs": [],
   "source": [
    "import pandas as pd\n",
    "from collections import defaultdict\n"
   ]
  },
  {
   "cell_type": "code",
   "execution_count": 2,
   "metadata": {},
   "outputs": [],
   "source": [
    "df = pd.read_excel(\"frontier_flights_list.xlsx\", sheet_name= \"single_destination_coded\")"
   ]
  },
  {
   "cell_type": "code",
   "execution_count": 3,
   "metadata": {},
   "outputs": [],
   "source": [
    "\n",
    "flight_graph = defaultdict(list)\n",
    "\n",
    "for _, row in df.iterrows():\n",
    "    origin = row[\"origin\"]\n",
    "    destination = row[\"destination\"]\n",
    "    flight_graph[origin].append(destination)\n"
   ]
  },
  {
   "cell_type": "code",
   "execution_count": 4,
   "metadata": {},
   "outputs": [
    {
     "data": {
      "text/plain": [
       "set()"
      ]
     },
     "execution_count": 4,
     "metadata": {},
     "output_type": "execute_result"
    }
   ],
   "source": [
    "def bfs_destinations(graph, start, max_layovers):\n",
    "    visited = set()\n",
    "    queue = [(start, 0)]\n",
    "\n",
    "    while queue:\n",
    "        current_airport, layovers = queue.pop(0)\n",
    "        if layovers > max_layovers:\n",
    "            continue\n",
    "\n",
    "        for neighbor in graph.get(current_airport, []):\n",
    "            if neighbor not in visited:\n",
    "                visited.add(neighbor)\n",
    "                queue.append((neighbor, layovers + 1))\n",
    "    \n",
    "    visited.discard(start)  # Optional\n",
    "    return visited\n",
    "\n",
    "bfs_destinations(flight_graph, 'Norfolk, VA', 0)"
   ]
  },
  {
   "cell_type": "code",
   "execution_count": 5,
   "metadata": {},
   "outputs": [],
   "source": [
    "def shared_destinations(graph, origin_list, max_layovers):\n",
    "    all_reachable = [bfs_destinations(graph, origin, max_layovers) for origin in origin_list]\n",
    "    return set.intersection(*all_reachable) if all_reachable else set()\n"
   ]
  },
  {
   "cell_type": "code",
   "execution_count": 6,
   "metadata": {},
   "outputs": [],
   "source": [
    "def round_trip_destinations(graph, start, max_outbound, max_return):\n",
    "    outbound_reachable = bfs_destinations(graph, start, max_outbound)\n",
    "\n",
    "    reverse_graph = build_reverse_graph(graph)\n",
    "\n",
    "\n",
    "    round_trip = set()\n",
    "    for dest in outbound_reachable:\n",
    "        returnable = bfs_destinations(reverse_graph, dest, max_return)\n",
    "        if start in returnable:\n",
    "            round_trip.add(dest)\n",
    "    \n",
    "    return round_trip\n",
    "\n",
    "\n",
    "def build_reverse_graph(graph):\n",
    "    reversed_graph = defaultdict(list)\n",
    "    for origin, destinations in graph.items():\n",
    "        for dest in destinations:\n",
    "            reversed_graph[dest].append(origin)\n",
    "    return reversed_graph\n"
   ]
  },
  {
   "cell_type": "code",
   "execution_count": 7,
   "metadata": {},
   "outputs": [
    {
     "name": "stdout",
     "output_type": "stream",
     "text": [
      "Shared reachable destinations: {'ORD', 'IAH', 'CLE', 'LAX', 'LAS', 'DTW', 'MCO', 'SFO', 'AUS', 'MSP', 'CVG', 'DFW'}\n"
     ]
    }
   ],
   "source": [
    "friends = [\"DEN\", \"ATL\", \"PHX\"]\n",
    "max_layovers = 0\n",
    "\n",
    "shared = shared_destinations(flight_graph, friends, max_layovers)\n",
    "print(\"Shared reachable destinations:\", shared)\n"
   ]
  },
  {
   "cell_type": "code",
   "execution_count": 8,
   "metadata": {},
   "outputs": [
    {
     "name": "stdout",
     "output_type": "stream",
     "text": [
      "{'ATL', 'DFW', 'MCO'}\n"
     ]
    }
   ],
   "source": [
    "valid = round_trip_destinations(flight_graph, \"ORF\", 0, 0)\n",
    "print(valid)  \n"
   ]
  }
 ],
 "metadata": {
  "kernelspec": {
   "display_name": "Python 3",
   "language": "python",
   "name": "python3"
  },
  "language_info": {
   "codemirror_mode": {
    "name": "ipython",
    "version": 3
   },
   "file_extension": ".py",
   "mimetype": "text/x-python",
   "name": "python",
   "nbconvert_exporter": "python",
   "pygments_lexer": "ipython3",
   "version": "3.11.7"
  }
 },
 "nbformat": 4,
 "nbformat_minor": 2
}
